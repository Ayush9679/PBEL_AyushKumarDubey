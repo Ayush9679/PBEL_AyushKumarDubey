{
  "nbformat": 4,
  "nbformat_minor": 0,
  "metadata": {
    "colab": {
      "provenance": [],
      "gpuType": "T4"
    },
    "kernelspec": {
      "name": "python3",
      "display_name": "Python 3"
    },
    "language_info": {
      "name": "python"
    },
    "accelerator": "GPU",
    "widgets": {
      "application/vnd.jupyter.widget-state+json": {
        "300ede1cfcee4163afc21937f9e31c26": {
          "model_module": "@jupyter-widgets/controls",
          "model_name": "HBoxModel",
          "model_module_version": "1.5.0",
          "state": {
            "_dom_classes": [],
            "_model_module": "@jupyter-widgets/controls",
            "_model_module_version": "1.5.0",
            "_model_name": "HBoxModel",
            "_view_count": null,
            "_view_module": "@jupyter-widgets/controls",
            "_view_module_version": "1.5.0",
            "_view_name": "HBoxView",
            "box_style": "",
            "children": [
              "IPY_MODEL_f631cb7d519a4a0abbac471edfe26b57",
              "IPY_MODEL_a985d46494554d5db1f361a2f2612263",
              "IPY_MODEL_f3ef77c0e2884c439457933eec51996e"
            ],
            "layout": "IPY_MODEL_9ed25dbf46be493d9ebf6dfece01f0e0"
          }
        },
        "f631cb7d519a4a0abbac471edfe26b57": {
          "model_module": "@jupyter-widgets/controls",
          "model_name": "HTMLModel",
          "model_module_version": "1.5.0",
          "state": {
            "_dom_classes": [],
            "_model_module": "@jupyter-widgets/controls",
            "_model_module_version": "1.5.0",
            "_model_name": "HTMLModel",
            "_view_count": null,
            "_view_module": "@jupyter-widgets/controls",
            "_view_module_version": "1.5.0",
            "_view_name": "HTMLView",
            "description": "",
            "description_tooltip": null,
            "layout": "IPY_MODEL_ad0bde4ffd8c465a8e929baf30889883",
            "placeholder": "​",
            "style": "IPY_MODEL_eaf9242dfadd4413843a4e6cacf621cd",
            "value": "Loading pipeline components...: 100%"
          }
        },
        "a985d46494554d5db1f361a2f2612263": {
          "model_module": "@jupyter-widgets/controls",
          "model_name": "FloatProgressModel",
          "model_module_version": "1.5.0",
          "state": {
            "_dom_classes": [],
            "_model_module": "@jupyter-widgets/controls",
            "_model_module_version": "1.5.0",
            "_model_name": "FloatProgressModel",
            "_view_count": null,
            "_view_module": "@jupyter-widgets/controls",
            "_view_module_version": "1.5.0",
            "_view_name": "ProgressView",
            "bar_style": "success",
            "description": "",
            "description_tooltip": null,
            "layout": "IPY_MODEL_7aef2ef88bb345e2bd04ae9efff41a6a",
            "max": 7,
            "min": 0,
            "orientation": "horizontal",
            "style": "IPY_MODEL_66a45d9646bc452e936cf421167b6364",
            "value": 7
          }
        },
        "f3ef77c0e2884c439457933eec51996e": {
          "model_module": "@jupyter-widgets/controls",
          "model_name": "HTMLModel",
          "model_module_version": "1.5.0",
          "state": {
            "_dom_classes": [],
            "_model_module": "@jupyter-widgets/controls",
            "_model_module_version": "1.5.0",
            "_model_name": "HTMLModel",
            "_view_count": null,
            "_view_module": "@jupyter-widgets/controls",
            "_view_module_version": "1.5.0",
            "_view_name": "HTMLView",
            "description": "",
            "description_tooltip": null,
            "layout": "IPY_MODEL_9aace975cc83453488581903fda4db72",
            "placeholder": "​",
            "style": "IPY_MODEL_ad1816a429634c5295321bb57f365f50",
            "value": " 7/7 [00:22&lt;00:00,  4.43s/it]"
          }
        },
        "9ed25dbf46be493d9ebf6dfece01f0e0": {
          "model_module": "@jupyter-widgets/base",
          "model_name": "LayoutModel",
          "model_module_version": "1.2.0",
          "state": {
            "_model_module": "@jupyter-widgets/base",
            "_model_module_version": "1.2.0",
            "_model_name": "LayoutModel",
            "_view_count": null,
            "_view_module": "@jupyter-widgets/base",
            "_view_module_version": "1.2.0",
            "_view_name": "LayoutView",
            "align_content": null,
            "align_items": null,
            "align_self": null,
            "border": null,
            "bottom": null,
            "display": null,
            "flex": null,
            "flex_flow": null,
            "grid_area": null,
            "grid_auto_columns": null,
            "grid_auto_flow": null,
            "grid_auto_rows": null,
            "grid_column": null,
            "grid_gap": null,
            "grid_row": null,
            "grid_template_areas": null,
            "grid_template_columns": null,
            "grid_template_rows": null,
            "height": null,
            "justify_content": null,
            "justify_items": null,
            "left": null,
            "margin": null,
            "max_height": null,
            "max_width": null,
            "min_height": null,
            "min_width": null,
            "object_fit": null,
            "object_position": null,
            "order": null,
            "overflow": null,
            "overflow_x": null,
            "overflow_y": null,
            "padding": null,
            "right": null,
            "top": null,
            "visibility": null,
            "width": null
          }
        },
        "ad0bde4ffd8c465a8e929baf30889883": {
          "model_module": "@jupyter-widgets/base",
          "model_name": "LayoutModel",
          "model_module_version": "1.2.0",
          "state": {
            "_model_module": "@jupyter-widgets/base",
            "_model_module_version": "1.2.0",
            "_model_name": "LayoutModel",
            "_view_count": null,
            "_view_module": "@jupyter-widgets/base",
            "_view_module_version": "1.2.0",
            "_view_name": "LayoutView",
            "align_content": null,
            "align_items": null,
            "align_self": null,
            "border": null,
            "bottom": null,
            "display": null,
            "flex": null,
            "flex_flow": null,
            "grid_area": null,
            "grid_auto_columns": null,
            "grid_auto_flow": null,
            "grid_auto_rows": null,
            "grid_column": null,
            "grid_gap": null,
            "grid_row": null,
            "grid_template_areas": null,
            "grid_template_columns": null,
            "grid_template_rows": null,
            "height": null,
            "justify_content": null,
            "justify_items": null,
            "left": null,
            "margin": null,
            "max_height": null,
            "max_width": null,
            "min_height": null,
            "min_width": null,
            "object_fit": null,
            "object_position": null,
            "order": null,
            "overflow": null,
            "overflow_x": null,
            "overflow_y": null,
            "padding": null,
            "right": null,
            "top": null,
            "visibility": null,
            "width": null
          }
        },
        "eaf9242dfadd4413843a4e6cacf621cd": {
          "model_module": "@jupyter-widgets/controls",
          "model_name": "DescriptionStyleModel",
          "model_module_version": "1.5.0",
          "state": {
            "_model_module": "@jupyter-widgets/controls",
            "_model_module_version": "1.5.0",
            "_model_name": "DescriptionStyleModel",
            "_view_count": null,
            "_view_module": "@jupyter-widgets/base",
            "_view_module_version": "1.2.0",
            "_view_name": "StyleView",
            "description_width": ""
          }
        },
        "7aef2ef88bb345e2bd04ae9efff41a6a": {
          "model_module": "@jupyter-widgets/base",
          "model_name": "LayoutModel",
          "model_module_version": "1.2.0",
          "state": {
            "_model_module": "@jupyter-widgets/base",
            "_model_module_version": "1.2.0",
            "_model_name": "LayoutModel",
            "_view_count": null,
            "_view_module": "@jupyter-widgets/base",
            "_view_module_version": "1.2.0",
            "_view_name": "LayoutView",
            "align_content": null,
            "align_items": null,
            "align_self": null,
            "border": null,
            "bottom": null,
            "display": null,
            "flex": null,
            "flex_flow": null,
            "grid_area": null,
            "grid_auto_columns": null,
            "grid_auto_flow": null,
            "grid_auto_rows": null,
            "grid_column": null,
            "grid_gap": null,
            "grid_row": null,
            "grid_template_areas": null,
            "grid_template_columns": null,
            "grid_template_rows": null,
            "height": null,
            "justify_content": null,
            "justify_items": null,
            "left": null,
            "margin": null,
            "max_height": null,
            "max_width": null,
            "min_height": null,
            "min_width": null,
            "object_fit": null,
            "object_position": null,
            "order": null,
            "overflow": null,
            "overflow_x": null,
            "overflow_y": null,
            "padding": null,
            "right": null,
            "top": null,
            "visibility": null,
            "width": null
          }
        },
        "66a45d9646bc452e936cf421167b6364": {
          "model_module": "@jupyter-widgets/controls",
          "model_name": "ProgressStyleModel",
          "model_module_version": "1.5.0",
          "state": {
            "_model_module": "@jupyter-widgets/controls",
            "_model_module_version": "1.5.0",
            "_model_name": "ProgressStyleModel",
            "_view_count": null,
            "_view_module": "@jupyter-widgets/base",
            "_view_module_version": "1.2.0",
            "_view_name": "StyleView",
            "bar_color": null,
            "description_width": ""
          }
        },
        "9aace975cc83453488581903fda4db72": {
          "model_module": "@jupyter-widgets/base",
          "model_name": "LayoutModel",
          "model_module_version": "1.2.0",
          "state": {
            "_model_module": "@jupyter-widgets/base",
            "_model_module_version": "1.2.0",
            "_model_name": "LayoutModel",
            "_view_count": null,
            "_view_module": "@jupyter-widgets/base",
            "_view_module_version": "1.2.0",
            "_view_name": "LayoutView",
            "align_content": null,
            "align_items": null,
            "align_self": null,
            "border": null,
            "bottom": null,
            "display": null,
            "flex": null,
            "flex_flow": null,
            "grid_area": null,
            "grid_auto_columns": null,
            "grid_auto_flow": null,
            "grid_auto_rows": null,
            "grid_column": null,
            "grid_gap": null,
            "grid_row": null,
            "grid_template_areas": null,
            "grid_template_columns": null,
            "grid_template_rows": null,
            "height": null,
            "justify_content": null,
            "justify_items": null,
            "left": null,
            "margin": null,
            "max_height": null,
            "max_width": null,
            "min_height": null,
            "min_width": null,
            "object_fit": null,
            "object_position": null,
            "order": null,
            "overflow": null,
            "overflow_x": null,
            "overflow_y": null,
            "padding": null,
            "right": null,
            "top": null,
            "visibility": null,
            "width": null
          }
        },
        "ad1816a429634c5295321bb57f365f50": {
          "model_module": "@jupyter-widgets/controls",
          "model_name": "DescriptionStyleModel",
          "model_module_version": "1.5.0",
          "state": {
            "_model_module": "@jupyter-widgets/controls",
            "_model_module_version": "1.5.0",
            "_model_name": "DescriptionStyleModel",
            "_view_count": null,
            "_view_module": "@jupyter-widgets/base",
            "_view_module_version": "1.2.0",
            "_view_name": "StyleView",
            "description_width": ""
          }
        }
      }
    }
  },
  "cells": [
    {
      "cell_type": "code",
      "execution_count": 103,
      "metadata": {
        "id": "mN8svt4aFoqk"
      },
      "outputs": [],
      "source": [
        "#importing all the libraries required\n",
        "import torch\n",
        "from diffusers import StableDiffusionPipeline\n",
        "import matplotlib.pyplot as plt\n",
        "import gradio as gr\n"
      ]
    },
    {
      "cell_type": "code",
      "source": [
        "# Load Stable Diffusion 1.5 (lighter, works well in Colab)\n",
        "pipe = StableDiffusionPipeline.from_pretrained(\n",
        "    \"runwayml/stable-diffusion-v1-5\",\n",
        "    torch_dtype=torch.float16\n",
        ").to(\"cuda\")\n"
      ],
      "metadata": {
        "colab": {
          "base_uri": "https://localhost:8080/",
          "height": 49,
          "referenced_widgets": [
            "300ede1cfcee4163afc21937f9e31c26",
            "f631cb7d519a4a0abbac471edfe26b57",
            "a985d46494554d5db1f361a2f2612263",
            "f3ef77c0e2884c439457933eec51996e",
            "9ed25dbf46be493d9ebf6dfece01f0e0",
            "ad0bde4ffd8c465a8e929baf30889883",
            "eaf9242dfadd4413843a4e6cacf621cd",
            "7aef2ef88bb345e2bd04ae9efff41a6a",
            "66a45d9646bc452e936cf421167b6364",
            "9aace975cc83453488581903fda4db72",
            "ad1816a429634c5295321bb57f365f50"
          ]
        },
        "id": "MOVOERx9F407",
        "outputId": "77b39f0a-dfe6-417f-9f09-9e1680498ec2"
      },
      "execution_count": 34,
      "outputs": [
        {
          "output_type": "display_data",
          "data": {
            "text/plain": [
              "Loading pipeline components...:   0%|          | 0/7 [00:00<?, ?it/s]"
            ],
            "application/vnd.jupyter.widget-view+json": {
              "version_major": 2,
              "version_minor": 0,
              "model_id": "300ede1cfcee4163afc21937f9e31c26"
            }
          },
          "metadata": {}
        }
      ]
    },
    {
      "cell_type": "code",
      "source": [
        "# Disable NSFW checker (avoid black images)\n",
        "def dummy_checker(images, **kwargs):\n",
        "    return images, [False]\n",
        "\n",
        "pipe.safety_checker = dummy_checker"
      ],
      "metadata": {
        "id": "jb9S249VGK-W"
      },
      "execution_count": 35,
      "outputs": []
    },
    {
      "cell_type": "code",
      "source": [
        "#this function acts as the working unit for image generation\n",
        "def generate(prompt, steps=250, scale=7.5, height=512, width=512):\n",
        "    image = pipe(\n",
        "        prompt,\n",
        "        height=height,\n",
        "        width=width,\n",
        "        num_inference_steps=steps,\n",
        "        guidance_scale=scale\n",
        "    ).images[0]\n",
        "    return image"
      ],
      "metadata": {
        "id": "orknHk2VS7pF"
      },
      "execution_count": 100,
      "outputs": []
    },
    {
      "cell_type": "code",
      "source": [
        "#using css to design the presentation of the generator\n",
        "css = r\"\"\"\n",
        "body {\n",
        "    background: url(\"https://images.pexels.com/photos/114979/pexels-photo-114979.jpeg?cs=srgb&dl=pexels-veeterzy-114979.jpg&fm=jpg\") no-repeat center center fixed;\n",
        "    background-size: cover;\n",
        "    font-family: Arial, sans-serif;\n",
        "    color: black;\n",
        "    margin: 0;\n",
        "    padding: 0;\n",
        "    display: flex;\n",
        "    flex-direction: column;\n",
        "    align-items: center;\n",
        "}\n",
        "h1 {\n",
        "    display: flex;\n",
        "    align-items: center;\n",
        "    justify-content: center;\n",
        "    background-color: rgba(200,150,255);\n",
        "    color: white;\n",
        "    padding: 12px 24px;\n",
        "    border-radius: 10px;\n",
        "    font-size: 28px;\n",
        "    font-weight: bold;\n",
        "    margin: 20px auto;\n",
        "    text-align: center;\n",
        "    gap: 10px; /* spacing between icon and text */\n",
        "}\n",
        "h1 img.title-icon {\n",
        "    height: 28px;  /* adjust as needed */\n",
        "    width: 28px;\n",
        "    object-fit: contain;\n",
        "}\n",
        "#app {\n",
        "    width: 80%;\n",
        "    max-width: 1000px;\n",
        "    margin: auto;\n",
        "    text-align: center;\n",
        "}\n",
        "#generated-image {\n",
        "    background: white;\n",
        "    width: 100%;\n",
        "    min-height: 400px;\n",
        "    border-radius: 8px;\n",
        "    display: flex;\n",
        "    align-items: center;\n",
        "    justify-content: center;\n",
        "    margin-top: 15px;\n",
        "}\n",
        "input[type=\"range\"] {\n",
        "    -webkit-appearance: none;\n",
        "    width: 100%;\n",
        "    height: 6px;\n",
        "    border-radius: 5px;\n",
        "    background: #ddd; /* unfilled part */\n",
        "    outline: none;\n",
        "    border: none;\n",
        "    padding: 0; /* removes blur/padding */\n",
        "}\n",
        "input[type=\"range\"]::-webkit-slider-runnable-track {\n",
        "    height: 6px;\n",
        "    border-radius: 5px;\n",
        "    background: #c896ff; /* filled track purple */\n",
        "}\n",
        "\n",
        "input[type=\"range\"]::-webkit-slider-thumb {\n",
        "    -webkit-appearance: none;\n",
        "    appearance: none;\n",
        "    width: 16px;\n",
        "    height: 16px;\n",
        "    border-radius: 50%;\n",
        "    background: #c896ff; /* thumb purple */\n",
        "    cursor: pointer;\n",
        "    margin-top: -5px;\n",
        "    border: none;\n",
        "}\n",
        "input[type=\"range\"]::-moz-range-track {\n",
        "    height: 6px;\n",
        "    border-radius: 5px;\n",
        "    background: #ddd; /* unfilled part */\n",
        "}\n",
        "\n",
        "input[type=\"range\"]::-moz-range-progress {\n",
        "    height: 6px;\n",
        "    border-radius: 5px;\n",
        "    background: #c896ff; /* filled purple */\n",
        "}\n",
        "\n",
        "input[type=\"range\"]::-moz-range-thumb {\n",
        "    width: 16px;\n",
        "    height: 16px;\n",
        "    border-radius: 50%;\n",
        "    background: #c896ff;\n",
        "    cursor: pointer;\n",
        "    border: none;\n",
        "}\n",
        "\n",
        "\n",
        "\"\"\"\n",
        "\n",
        "\n",
        "with gr.Blocks(css=css) as demo:\n",
        "    gr.HTML('<div class=\"title-container\"><h1>Text-to-Image Generator</h1></div>')\n",
        "    gr.Markdown(\"Generate images interactively!\")\n",
        "\n",
        "    with gr.Row():\n",
        "        prompt = gr.Textbox(label=\"Prompt\", placeholder=\"Type your image prompt...\")\n",
        "\n",
        "    with gr.Row():\n",
        "        steps = gr.Slider(1, 250, value=25, step=1, label=\"Inference Steps\")\n",
        "        scale = gr.Slider(1, 15, value=7.5, step=0.5, label=\"Guidance Scale\")\n",
        "\n",
        "    with gr.Row():\n",
        "        height = gr.Slider(128, 1024, value=512, step=64, label=\"Height\")\n",
        "        width = gr.Slider(128, 1024, value=512, step=64, label=\"Width\")\n",
        "\n",
        "    output = gr.Image(type=\"pil\", label=\"Generated Image\")\n",
        "\n",
        "    run_btn = gr.Button(\"Generate\")\n",
        "\n",
        "    run_btn.click(fn=generate, inputs=[prompt, steps, scale, height, width], outputs=output)\n",
        "\n",
        "demo.launch(share=True)\n"
      ],
      "metadata": {
        "colab": {
          "base_uri": "https://localhost:8080/",
          "height": 611
        },
        "id": "qx2zX8FqStT5",
        "outputId": "13c6f274-6fc2-476d-c765-9501db0f0b8e"
      },
      "execution_count": 104,
      "outputs": [
        {
          "output_type": "stream",
          "name": "stdout",
          "text": [
            "Colab notebook detected. To show errors in colab notebook, set debug=True in launch()\n",
            "* Running on public URL: https://7e94df7aa7df268b64.gradio.live\n",
            "\n",
            "This share link expires in 1 week. For free permanent hosting and GPU upgrades, run `gradio deploy` from the terminal in the working directory to deploy to Hugging Face Spaces (https://huggingface.co/spaces)\n"
          ]
        },
        {
          "output_type": "display_data",
          "data": {
            "text/plain": [
              "<IPython.core.display.HTML object>"
            ],
            "text/html": [
              "<div><iframe src=\"https://7e94df7aa7df268b64.gradio.live\" width=\"100%\" height=\"500\" allow=\"autoplay; camera; microphone; clipboard-read; clipboard-write;\" frameborder=\"0\" allowfullscreen></iframe></div>"
            ]
          },
          "metadata": {}
        },
        {
          "output_type": "execute_result",
          "data": {
            "text/plain": []
          },
          "metadata": {},
          "execution_count": 104
        }
      ]
    }
  ]
}