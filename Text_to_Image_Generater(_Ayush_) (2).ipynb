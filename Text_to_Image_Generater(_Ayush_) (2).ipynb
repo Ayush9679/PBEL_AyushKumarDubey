{
  "nbformat": 4,
  "nbformat_minor": 0,
  "metadata": {
    "colab": {
      "provenance": [],
      "gpuType": "T4"
    },
    "kernelspec": {
      "name": "python3",
      "display_name": "Python 3"
    },
    "language_info": {
      "name": "python"
    },
    "accelerator": "GPU"
  },
  "cells": [
    {
      "cell_type": "code",
      "execution_count": null,
      "metadata": {
        "id": "mN8svt4aFoqk"
      },
      "outputs": [],
      "source": [
        "#importing all the libraries required\n",
        "import torch\n",
        "from diffusers import StableDiffusionPipeline\n",
        "import matplotlib.pyplot as plt\n",
        "import gradio as gr\n"
      ]
    },
    {
      "cell_type": "code",
      "source": [
        "# Load Stable Diffusion 1.5 (lighter, works well in Colab)\n",
        "pipe = StableDiffusionPipeline.from_pretrained(\n",
        "    \"runwayml/stable-diffusion-v1-5\",\n",
        "    torch_dtype=torch.float16\n",
        ").to(\"cuda\")\n"
      ],
      "metadata": {
        "id": "MOVOERx9F407"
      },
      "execution_count": null,
      "outputs": []
    },
    {
      "cell_type": "code",
      "source": [
        "# Disable NSFW checker (avoid black images)\n",
        "def dummy_checker(images, **kwargs):\n",
        "    return images, [False]\n",
        "\n",
        "pipe.safety_checker = dummy_checker"
      ],
      "metadata": {
        "id": "jb9S249VGK-W"
      },
      "execution_count": null,
      "outputs": []
    },
    {
      "cell_type": "code",
      "source": [
        "#this function acts as the working unit for image generation\n",
        "def generate(prompt, steps=250, scale=7.5, height=512, width=512):\n",
        "    image = pipe(\n",
        "        prompt,\n",
        "        height=height,\n",
        "        width=width,\n",
        "        num_inference_steps=steps,\n",
        "        guidance_scale=scale\n",
        "    ).images[0]\n",
        "    return image"
      ],
      "metadata": {
        "id": "orknHk2VS7pF"
      },
      "execution_count": null,
      "outputs": []
    },
    {
      "cell_type": "code",
      "source": [
        "#using css to design the presentation of the generator\n",
        "css = r\"\"\"\n",
        "body {\n",
        "    background: url(\"https://images.pexels.com/photos/114979/pexels-photo-114979.jpeg?cs=srgb&dl=pexels-veeterzy-114979.jpg&fm=jpg\") no-repeat center center fixed;\n",
        "    background-size: cover;\n",
        "    font-family: Arial, sans-serif;\n",
        "    color: black;\n",
        "    margin: 0;\n",
        "    padding: 0;\n",
        "    display: flex;\n",
        "    flex-direction: column;\n",
        "    align-items: center;\n",
        "}\n",
        "h1 {\n",
        "    display: flex;\n",
        "    align-items: center;\n",
        "    justify-content: center;\n",
        "    background-color: rgba(200,150,255);\n",
        "    color: white;\n",
        "    padding: 12px 24px;\n",
        "    border-radius: 10px;\n",
        "    font-size: 28px;\n",
        "    font-weight: bold;\n",
        "    margin: 20px auto;\n",
        "    text-align: center;\n",
        "    gap: 10px; /* spacing between icon and text */\n",
        "}\n",
        "h1 img.title-icon {\n",
        "    height: 28px;  /* adjust as needed */\n",
        "    width: 28px;\n",
        "    object-fit: contain;\n",
        "}\n",
        "#app {\n",
        "    width: 80%;\n",
        "    max-width: 1000px;\n",
        "    margin: auto;\n",
        "    text-align: center;\n",
        "}\n",
        "#generated-image {\n",
        "    background: white;\n",
        "    width: 100%;\n",
        "    min-height: 400px;\n",
        "    border-radius: 8px;\n",
        "    display: flex;\n",
        "    align-items: center;\n",
        "    justify-content: center;\n",
        "    margin-top: 15px;\n",
        "}\n",
        "input[type=\"range\"] {\n",
        "    -webkit-appearance: none;\n",
        "    width: 100%;\n",
        "    height: 6px;\n",
        "    border-radius: 5px;\n",
        "    background: #ddd; /* unfilled part */\n",
        "    outline: none;\n",
        "    border: none;\n",
        "    padding: 0; /* removes blur/padding */\n",
        "}\n",
        "input[type=\"range\"]::-webkit-slider-runnable-track {\n",
        "    height: 6px;\n",
        "    border-radius: 5px;\n",
        "    background: #c896ff; /* filled track purple */\n",
        "}\n",
        "\n",
        "input[type=\"range\"]::-webkit-slider-thumb {\n",
        "    -webkit-appearance: none;\n",
        "    appearance: none;\n",
        "    width: 16px;\n",
        "    height: 16px;\n",
        "    border-radius: 50%;\n",
        "    background: #c896ff; /* thumb purple */\n",
        "    cursor: pointer;\n",
        "    margin-top: -5px;\n",
        "    border: none;\n",
        "}\n",
        "input[type=\"range\"]::-moz-range-track {\n",
        "    height: 6px;\n",
        "    border-radius: 5px;\n",
        "    background: #ddd; /* unfilled part */\n",
        "}\n",
        "\n",
        "input[type=\"range\"]::-moz-range-progress {\n",
        "    height: 6px;\n",
        "    border-radius: 5px;\n",
        "    background: #c896ff; /* filled purple */\n",
        "}\n",
        "\n",
        "input[type=\"range\"]::-moz-range-thumb {\n",
        "    width: 16px;\n",
        "    height: 16px;\n",
        "    border-radius: 50%;\n",
        "    background: #c896ff;\n",
        "    cursor: pointer;\n",
        "    border: none;\n",
        "}\n",
        "\n",
        "\n",
        "\"\"\"\n",
        "\n",
        "\n",
        "with gr.Blocks(css=css) as demo:\n",
        "    gr.HTML('<div class=\"title-container\"><h1>Text-to-Image Generator</h1></div>')\n",
        "    gr.Markdown(\"Generate images interactively!\")\n",
        "\n",
        "    with gr.Row():\n",
        "        prompt = gr.Textbox(label=\"Prompt\", placeholder=\"Type your image prompt...\")\n",
        "\n",
        "    with gr.Row():\n",
        "        steps = gr.Slider(1, 250, value=25, step=1, label=\"Inference Steps\")\n",
        "        scale = gr.Slider(1, 15, value=7.5, step=0.5, label=\"Guidance Scale\")\n",
        "\n",
        "    with gr.Row():\n",
        "        height = gr.Slider(128, 1024, value=512, step=64, label=\"Height\")\n",
        "        width = gr.Slider(128, 1024, value=512, step=64, label=\"Width\")\n",
        "\n",
        "    output = gr.Image(type=\"pil\", label=\"Generated Image\")\n",
        "\n",
        "    run_btn = gr.Button(\"Generate\")\n",
        "\n",
        "    run_btn.click(fn=generate, inputs=[prompt, steps, scale, height, width], outputs=output)\n",
        "\n",
        "demo.launch(share=True)\n"
      ],
      "metadata": {
        "id": "qx2zX8FqStT5"
      },
      "execution_count": null,
      "outputs": []
    }
  ]
}